{
  "nbformat": 4,
  "nbformat_minor": 0,
  "metadata": {
    "colab": {
      "provenance": [],
      "authorship_tag": "ABX9TyPm4EENB5elUdiWd4s147ZC",
      "include_colab_link": true
    },
    "kernelspec": {
      "name": "python3",
      "display_name": "Python 3"
    },
    "language_info": {
      "name": "python"
    }
  },
  "cells": [
    {
      "cell_type": "markdown",
      "metadata": {
        "id": "view-in-github",
        "colab_type": "text"
      },
      "source": [
        "<a href=\"https://colab.research.google.com/github/ArthiyaD/TroubleShooters/blob/Development/ACG.ipynb\" target=\"_parent\"><img src=\"https://colab.research.google.com/assets/colab-badge.svg\" alt=\"Open In Colab\"/></a>"
      ]
    },
    {
      "cell_type": "code",
      "execution_count": null,
      "metadata": {
        "id": "Ohhq97L1PZUS"
      },
      "outputs": [],
      "source": [
        "!pip install gensim==3.8.3"
      ]
    },
    {
      "cell_type": "code",
      "source": [
        "import nltk\n",
        "nltk.download('stopwords')\n",
        "import tensorflow as tf\n",
        "import pandas as pd\n",
        "import numpy as np\n",
        "import pickle as pkl\n",
        "import cv2\n",
        "import matplotlib.pyplot as plt\n",
        "import matplotlib.image as mpimg\n",
        "\n",
        "from gensim.models import Word2Vec,KeyedVectors\n",
        "from IPython.display import Image, display\n",
        "from nltk.corpus import stopwords\n",
        "from tensorflow.keras.preprocessing import image, sequence\n",
        "from tensorflow.keras.applications.resnet50 import ResNet50"
      ],
      "metadata": {
        "id": "JFzaG53LPdnB"
      },
      "execution_count": null,
      "outputs": []
    },
    {
      "cell_type": "code",
      "source": [
        "!gdown 1Y6v9wfUkibbYBTso534eK9uWJ3JzXKO9\n",
        "!gdown 1Z4C6sVs5EhnwhW6I8m-DKhYJw3e7A6WX\n",
        "!gdown 1Xv3CVAUuQPZbgQJqWJbuiPx14hcApcj5\n",
        "!gdown 1YN4m-gece5itGTzIUdZC1t8pn1sWWZOc\n",
        "!gdown 1jNFcFytMGUnG3oTgIYttilXD5B7ORjlD"
      ],
      "metadata": {
        "id": "5uq6UNTXPiRy"
      },
      "execution_count": null,
      "outputs": []
    },
    {
      "cell_type": "code",
      "source": [
        "word_vect = '/content/GoogleNews-vectors-negative300.bin.gz'\n",
        "model_text = '/content/model_text_categorize.h5'\n",
        "model_image = '/content/saved_model.hp5'\n",
        "\n",
        "loaded_model = tf.keras.models.load_model(model_text)\n",
        "saved_model = tf.keras.models.load_model(model_image)\n",
        "model = KeyedVectors.load_word2vec_format(word_vect, \n",
        "                                          binary=True,\n",
        "                                          limit=1000000)"
      ],
      "metadata": {
        "id": "VWlMtuTmPlRi"
      },
      "execution_count": null,
      "outputs": []
    },
    {
      "cell_type": "code",
      "source": [
        "resnet = ResNet50(include_top=False, weights='imagenet',\n",
        "                  input_shape=(224,224,3), pooling='avg')"
      ],
      "metadata": {
        "id": "_okk2zPTPmtS"
      },
      "execution_count": null,
      "outputs": []
    },
    {
      "cell_type": "code",
      "source": [
        "with open('/content/word_2_indices.pickle', 'rb') as handle:\n",
        "     word_2_indices = pkl.load(handle)\n",
        "\n",
        "with open('/content/indices_2_word.pickle', 'rb') as handle:\n",
        "    indices_2_word = pkl.load(handle)"
      ],
      "metadata": {
        "id": "Ec5ZwbPfQ_g5"
      },
      "execution_count": null,
      "outputs": []
    },
    {
      "cell_type": "code",
      "source": [
        "\n"
      ],
      "metadata": {
        "id": "8Fj6XNsfRBRq"
      },
      "execution_count": null,
      "outputs": []
    }
  ]
}