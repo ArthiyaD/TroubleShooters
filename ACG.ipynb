{
  "nbformat": 4,
  "nbformat_minor": 0,
  "metadata": {
    "colab": {
      "provenance": [],
      "authorship_tag": "ABX9TyPnCA93ks8BRKkMxdnMh6Ef",
      "include_colab_link": true
    },
    "kernelspec": {
      "name": "python3",
      "display_name": "Python 3"
    },
    "language_info": {
      "name": "python"
    }
  },
  "cells": [
    {
      "cell_type": "markdown",
      "metadata": {
        "id": "view-in-github",
        "colab_type": "text"
      },
      "source": [
        "<a href=\"https://colab.research.google.com/github/ArthiyaD/TroubleShooters/blob/Development/ACG.ipynb\" target=\"_parent\"><img src=\"https://colab.research.google.com/assets/colab-badge.svg\" alt=\"Open In Colab\"/></a>"
      ]
    },
    {
      "cell_type": "code",
      "execution_count": null,
      "metadata": {
        "id": "Ohhq97L1PZUS"
      },
      "outputs": [],
      "source": [
        "!pip install gensim==3.8.3"
      ]
    },
    {
      "cell_type": "code",
      "source": [
        "import nltk\n",
        "nltk.download('stopwords')\n",
        "import tensorflow as tf\n",
        "import pandas as pd\n",
        "import numpy as np\n",
        "import pickle as pkl\n",
        "import cv2\n",
        "import matplotlib.pyplot as plt\n",
        "import matplotlib.image as mpimg\n",
        "\n",
        "from gensim.models import Word2Vec,KeyedVectors\n",
        "from IPython.display import Image, display\n",
        "from nltk.corpus import stopwords\n",
        "from tensorflow.keras.preprocessing import image, sequence\n",
        "from tensorflow.keras.applications.resnet50 import ResNet50"
      ],
      "metadata": {
        "id": "JFzaG53LPdnB"
      },
      "execution_count": null,
      "outputs": []
    },
    {
      "cell_type": "code",
      "source": [
        "!gdown 1Y6v9wfUkibbYBTso534eK9uWJ3JzXKO9\n",
        "!gdown 1Z4C6sVs5EhnwhW6I8m-DKhYJw3e7A6WX\n",
        "!gdown 1Xv3CVAUuQPZbgQJqWJbuiPx14hcApcj5\n",
        "!gdown 1YN4m-gece5itGTzIUdZC1t8pn1sWWZOc\n",
        "!gdown 1jNFcFytMGUnG3oTgIYttilXD5B7ORjlD"
      ],
      "metadata": {
        "id": "5uq6UNTXPiRy"
      },
      "execution_count": null,
      "outputs": []
    },
    {
      "cell_type": "code",
      "source": [
        "word_vect = '/content/GoogleNews-vectors-negative300.bin.gz'\n",
        "model_text = '/content/model_text_categorize.h5'\n",
        "model_image = '/content/saved_model.hp5'\n",
        "\n",
        "loaded_model = tf.keras.models.load_model(model_text)\n",
        "saved_model = tf.keras.models.load_model(model_image)\n",
        "model = KeyedVectors.load_word2vec_format(word_vect, \n",
        "                                          binary=True,\n",
        "                                          limit=1000000)"
      ],
      "metadata": {
        "id": "VWlMtuTmPlRi"
      },
      "execution_count": null,
      "outputs": []
    },
    {
      "cell_type": "code",
      "source": [
        "resnet = ResNet50(include_top=False, weights='imagenet',\n",
        "                  input_shape=(224,224,3), pooling='avg')"
      ],
      "metadata": {
        "id": "_okk2zPTPmtS"
      },
      "execution_count": null,
      "outputs": []
    },
    {
      "cell_type": "code",
      "source": [
        "with open('/content/word_2_indices.pickle', 'rb') as handle:\n",
        "     word_2_indices = pkl.load(handle)\n",
        "\n",
        "with open('/content/indices_2_word.pickle', 'rb') as handle:\n",
        "    indices_2_word = pkl.load(handle)"
      ],
      "metadata": {
        "id": "Ec5ZwbPfQ_g5"
      },
      "execution_count": null,
      "outputs": []
    },
    {
      "cell_type": "code",
      "source": [
        "def preprocessing(img_path):\n",
        "    im = image.load_img(img_path, target_size=(224,224,3))\n",
        "    im = image.img_to_array(im)\n",
        "    im = np.expand_dims(im, axis=0)\n",
        "    return im\n",
        "\n",
        "def get_encoding(model1, img):\n",
        "    image = preprocessing(img)\n",
        "    pred = model1.predict(image, verbose=0).reshape(2048)\n",
        "    return pred\n",
        "\n",
        "def predict_captions(image,model):\n",
        "    start_word = [\"<start>\"]\n",
        "    while True:\n",
        "        par_caps = [word_2_indices[i] for i in start_word]\n",
        "        par_caps = sequence.pad_sequences([par_caps], maxlen=40, \n",
        "                                          padding='post')\n",
        "        preds = model.predict([np.array([image]), np.array(par_caps)], verbose=0)\n",
        "        word_pred = indices_2_word[np.argmax(preds[0])]\n",
        "        start_word.append(word_pred)\n",
        "        \n",
        "        if word_pred == \"<end>\" or len(start_word) >40:\n",
        "            break\n",
        "            \n",
        "    return ' '.join(start_word[1:-1])\n",
        "\n",
        "def word_vector(tokens,size,model):\n",
        "  vec = np.zeros(size).reshape((1, size))\n",
        "  count = 0\n",
        "  for word in tokens:\n",
        "    vec += model[word].reshape((1, size))\n",
        "    count += 1.\n",
        "  if count != 0:\n",
        "      vec /= count\n",
        "  return vec\n",
        "\n",
        "def token_check(x,model):\n",
        "  token_list=[]\n",
        "  for i in x:\n",
        "      if len(i) > 3 and i in model.vocab:\n",
        "          token_list.append(i)\n",
        "      else:\n",
        "          continue\n",
        "  return token_list\n",
        "\n",
        "def clean_description_text(description):\n",
        "  description = description.replace(r'\\d+','')\n",
        "  spec_chars = [\"!\",'\"',\"#\",\"%\",\"&\",\"'\",\"(\",\")\",\n",
        "                \"*\",\"+\",\",\",\"-\",\".\",\"/\",\":\",\";\",\"<\",\n",
        "                \"=\",\">\",\"?\",\"@\",\"[\",\"\\\\\",\"]\",\"^\",\"_\",\n",
        "                \"`\",\"{\",\"|\",\"}\",\"~\",\"–\"]\n",
        "  for char in spec_chars:\n",
        "      description = description.replace(char, ' ')\n",
        "\n",
        "  word_list_t = description.lower().split() \n",
        " \n",
        "  filtered_words = [word for word in word_list_t \n",
        "                    if word not in stopwords.words('english')]\n",
        "  text = ' '.join(filtered_words)\n",
        "  return text\n",
        "\n",
        "def FrameCapture(path):\n",
        "    vidObj = cv2.VideoCapture(path)\n",
        "    success, image = vidObj.read()\n",
        "    cv2.imwrite(\"frame.jpg\", image)\n"
      ],
      "metadata": {
        "id": "8Fj6XNsfRBRq"
      },
      "execution_count": null,
      "outputs": []
    },
    {
      "cell_type": "code",
      "source": [
        "option = input(\"Enter Video or Image\")\n",
        "\n",
        "if option == \"Video\"\n",
        "   # Input the video path\n",
        "   img = input(\"Video Path: \")\n",
        "\n",
        "  # Convert to frames\n",
        "   FrameCapture(img)\n",
        "   frame_path = '/content/frame.jpg'\n",
        "\n",
        "elif option == \"Image\"\n",
        "   # Input the image path\n",
        "   frame_path = input(\"Image Path: \")\n",
        "\n",
        "\n",
        "# Load the Image and Preprocess\n",
        "test_img = get_encoding(resnet, frame_path)\n",
        "\n",
        "# Predict the caption\n",
        "caption = predict_captions(test_img,saved_model)\n",
        "\n",
        "# Predict the image category\n",
        "clean_description = clean_description_text(caption)\n",
        "description_tokens = list(clean_description.split(\" \"))\n",
        "description_tokens_filtered = token_check(description_tokens,model)\n",
        "\n",
        "_arrays = np.zeros((1, 300))\n",
        "_arrays[0,:] = word_vector(description_tokens_filtered,300,model)\n",
        "vectorized_array = pd.DataFrame(_arrays)\n",
        "\n",
        "pred = loaded_model.predict([vectorized_array.iloc[:,0:300]], verbose=0)\n",
        "value = np.argmax(pred, axis=-1)\n",
        "labels = ['adventure','art and music','food','history','manufacturing',\n",
        "          'nature','science and technology','sports','travel']\n",
        "\n",
        "# Print the result\n",
        "img = mpimg.imread(frame_path)\n",
        "imgplot = plt.imshow(img)\n",
        "plt.show()\n",
        "\n",
        "print(\"\\nPredicted Caption : \", caption)\n",
        "print(\"Predicted Label   : \", labels[value.item()]) "
      ],
      "metadata": {
        "id": "C0L4YUkdtsDJ"
      },
      "execution_count": null,
      "outputs": []
    },
    {
      "cell_type": "code",
      "source": [
        "captions = pd.read_csv('/content/ModelCaptions.csv')\n",
        "is_category = captions['Category'].str.lower()==  labels[value.item()]\n",
        "df = captions.loc[is_category]\n",
        "    #df.columns = ('Category', 'Description')\n",
        "    #df.head()\n",
        "caption_list = df['Description']\n",
        "result = 'Recommended Captions for the label:'\n",
        "count = 1\n",
        "for caption in caption_list:\n",
        "        result = caption\n",
        "        print (result)\n",
        "        count = count+1\n",
        "        if (count == 6):\n",
        "            break "
      ],
      "metadata": {
        "id": "54G-WDQCuD55"
      },
      "execution_count": null,
      "outputs": []
    }
  ]
}